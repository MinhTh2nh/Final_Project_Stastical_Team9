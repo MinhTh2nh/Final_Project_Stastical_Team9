{
  "nbformat": 4,
  "nbformat_minor": 0,
  "metadata": {
    "colab": {
      "provenance": []
    },
    "kernelspec": {
      "name": "python3",
      "display_name": "Python 3"
    },
    "language_info": {
      "name": "python"
    }
  },
  "cells": [
    {
      "cell_type": "code",
      "execution_count": 1,
      "metadata": {
        "id": "Wo8IaRNjtAgc"
      },
      "outputs": [],
      "source": [
        "import numpy.polynomial.polynomial as poly\n",
        "from datetime import datetime\n",
        "import matplotlib.pyplot as plt\n",
        "import pandas as pd\n",
        "import numpy as np\n",
        "from sklearn.metrics import r2_score\n",
        "from sklearn.linear_model import LinearRegression\n",
        "from sklearn.metrics import mean_squared_error\n",
        "import pandas as pd\n",
        "import seaborn as sns\n",
        "import statsmodels.api as sm\n",
        "import matplotlib.pyplot as plt"
      ]
    },
    {
      "cell_type": "code",
      "source": [
        "HPG=pd.read_csv(r\"/content/HoaPhatdataset (3).csv\")\n",
        "HPG"
      ],
      "metadata": {
        "colab": {
          "base_uri": "https://localhost:8080/",
          "height": 424
        },
        "id": "qhn4znPMyRV7",
        "outputId": "55cc3ed8-93c8-46ea-8a61-a2f7101ccc97"
      },
      "execution_count": 8,
      "outputs": [
        {
          "output_type": "execute_result",
          "data": {
            "text/plain": [
              "            date    price     Open     High      Low    Vol. Change %\n",
              "0       9/7/2015   3861.9   3888.4   3941.3   3848.7   6.33M   -1.69%\n",
              "1       9/8/2015   3994.2   3875.2   3994.2   3861.9   5.76M    3.43%\n",
              "2       9/9/2015   4060.3   4047.1   4073.5   4007.4  10.08M    1.65%\n",
              "3      9/10/2015   4020.6   4007.4   4060.3   3967.7   4.93M   -0.98%\n",
              "4      9/11/2015   3928.1   4007.4   4020.6   3928.1   6.22M   -2.30%\n",
              "...          ...      ...      ...      ...      ...     ...      ...\n",
              "1807  11/24/2022  14350.0  13700.0  14400.0  13600.0  31.12M    3.99%\n",
              "1808  11/25/2022  15300.0  14600.0  15300.0  14350.0  26.53M    6.62%\n",
              "1809  11/28/2022  16350.0  15600.0  16350.0  15600.0  58.84M    6.86%\n",
              "1810  11/29/2022  17400.0  16600.0  17450.0  16350.0  64.31M    6.42%\n",
              "1811  11/30/2022  18400.0  17550.0  18400.0  17200.0  57.72M    5.75%\n",
              "\n",
              "[1812 rows x 7 columns]"
            ],
            "text/html": [
              "\n",
              "  <div id=\"df-3f490191-d83e-4fa5-a1aa-d06845016178\">\n",
              "    <div class=\"colab-df-container\">\n",
              "      <div>\n",
              "<style scoped>\n",
              "    .dataframe tbody tr th:only-of-type {\n",
              "        vertical-align: middle;\n",
              "    }\n",
              "\n",
              "    .dataframe tbody tr th {\n",
              "        vertical-align: top;\n",
              "    }\n",
              "\n",
              "    .dataframe thead th {\n",
              "        text-align: right;\n",
              "    }\n",
              "</style>\n",
              "<table border=\"1\" class=\"dataframe\">\n",
              "  <thead>\n",
              "    <tr style=\"text-align: right;\">\n",
              "      <th></th>\n",
              "      <th>date</th>\n",
              "      <th>price</th>\n",
              "      <th>Open</th>\n",
              "      <th>High</th>\n",
              "      <th>Low</th>\n",
              "      <th>Vol.</th>\n",
              "      <th>Change %</th>\n",
              "    </tr>\n",
              "  </thead>\n",
              "  <tbody>\n",
              "    <tr>\n",
              "      <th>0</th>\n",
              "      <td>9/7/2015</td>\n",
              "      <td>3861.9</td>\n",
              "      <td>3888.4</td>\n",
              "      <td>3941.3</td>\n",
              "      <td>3848.7</td>\n",
              "      <td>6.33M</td>\n",
              "      <td>-1.69%</td>\n",
              "    </tr>\n",
              "    <tr>\n",
              "      <th>1</th>\n",
              "      <td>9/8/2015</td>\n",
              "      <td>3994.2</td>\n",
              "      <td>3875.2</td>\n",
              "      <td>3994.2</td>\n",
              "      <td>3861.9</td>\n",
              "      <td>5.76M</td>\n",
              "      <td>3.43%</td>\n",
              "    </tr>\n",
              "    <tr>\n",
              "      <th>2</th>\n",
              "      <td>9/9/2015</td>\n",
              "      <td>4060.3</td>\n",
              "      <td>4047.1</td>\n",
              "      <td>4073.5</td>\n",
              "      <td>4007.4</td>\n",
              "      <td>10.08M</td>\n",
              "      <td>1.65%</td>\n",
              "    </tr>\n",
              "    <tr>\n",
              "      <th>3</th>\n",
              "      <td>9/10/2015</td>\n",
              "      <td>4020.6</td>\n",
              "      <td>4007.4</td>\n",
              "      <td>4060.3</td>\n",
              "      <td>3967.7</td>\n",
              "      <td>4.93M</td>\n",
              "      <td>-0.98%</td>\n",
              "    </tr>\n",
              "    <tr>\n",
              "      <th>4</th>\n",
              "      <td>9/11/2015</td>\n",
              "      <td>3928.1</td>\n",
              "      <td>4007.4</td>\n",
              "      <td>4020.6</td>\n",
              "      <td>3928.1</td>\n",
              "      <td>6.22M</td>\n",
              "      <td>-2.30%</td>\n",
              "    </tr>\n",
              "    <tr>\n",
              "      <th>...</th>\n",
              "      <td>...</td>\n",
              "      <td>...</td>\n",
              "      <td>...</td>\n",
              "      <td>...</td>\n",
              "      <td>...</td>\n",
              "      <td>...</td>\n",
              "      <td>...</td>\n",
              "    </tr>\n",
              "    <tr>\n",
              "      <th>1807</th>\n",
              "      <td>11/24/2022</td>\n",
              "      <td>14350.0</td>\n",
              "      <td>13700.0</td>\n",
              "      <td>14400.0</td>\n",
              "      <td>13600.0</td>\n",
              "      <td>31.12M</td>\n",
              "      <td>3.99%</td>\n",
              "    </tr>\n",
              "    <tr>\n",
              "      <th>1808</th>\n",
              "      <td>11/25/2022</td>\n",
              "      <td>15300.0</td>\n",
              "      <td>14600.0</td>\n",
              "      <td>15300.0</td>\n",
              "      <td>14350.0</td>\n",
              "      <td>26.53M</td>\n",
              "      <td>6.62%</td>\n",
              "    </tr>\n",
              "    <tr>\n",
              "      <th>1809</th>\n",
              "      <td>11/28/2022</td>\n",
              "      <td>16350.0</td>\n",
              "      <td>15600.0</td>\n",
              "      <td>16350.0</td>\n",
              "      <td>15600.0</td>\n",
              "      <td>58.84M</td>\n",
              "      <td>6.86%</td>\n",
              "    </tr>\n",
              "    <tr>\n",
              "      <th>1810</th>\n",
              "      <td>11/29/2022</td>\n",
              "      <td>17400.0</td>\n",
              "      <td>16600.0</td>\n",
              "      <td>17450.0</td>\n",
              "      <td>16350.0</td>\n",
              "      <td>64.31M</td>\n",
              "      <td>6.42%</td>\n",
              "    </tr>\n",
              "    <tr>\n",
              "      <th>1811</th>\n",
              "      <td>11/30/2022</td>\n",
              "      <td>18400.0</td>\n",
              "      <td>17550.0</td>\n",
              "      <td>18400.0</td>\n",
              "      <td>17200.0</td>\n",
              "      <td>57.72M</td>\n",
              "      <td>5.75%</td>\n",
              "    </tr>\n",
              "  </tbody>\n",
              "</table>\n",
              "<p>1812 rows × 7 columns</p>\n",
              "</div>\n",
              "      <button class=\"colab-df-convert\" onclick=\"convertToInteractive('df-3f490191-d83e-4fa5-a1aa-d06845016178')\"\n",
              "              title=\"Convert this dataframe to an interactive table.\"\n",
              "              style=\"display:none;\">\n",
              "        \n",
              "  <svg xmlns=\"http://www.w3.org/2000/svg\" height=\"24px\"viewBox=\"0 0 24 24\"\n",
              "       width=\"24px\">\n",
              "    <path d=\"M0 0h24v24H0V0z\" fill=\"none\"/>\n",
              "    <path d=\"M18.56 5.44l.94 2.06.94-2.06 2.06-.94-2.06-.94-.94-2.06-.94 2.06-2.06.94zm-11 1L8.5 8.5l.94-2.06 2.06-.94-2.06-.94L8.5 2.5l-.94 2.06-2.06.94zm10 10l.94 2.06.94-2.06 2.06-.94-2.06-.94-.94-2.06-.94 2.06-2.06.94z\"/><path d=\"M17.41 7.96l-1.37-1.37c-.4-.4-.92-.59-1.43-.59-.52 0-1.04.2-1.43.59L10.3 9.45l-7.72 7.72c-.78.78-.78 2.05 0 2.83L4 21.41c.39.39.9.59 1.41.59.51 0 1.02-.2 1.41-.59l7.78-7.78 2.81-2.81c.8-.78.8-2.07 0-2.86zM5.41 20L4 18.59l7.72-7.72 1.47 1.35L5.41 20z\"/>\n",
              "  </svg>\n",
              "      </button>\n",
              "      \n",
              "  <style>\n",
              "    .colab-df-container {\n",
              "      display:flex;\n",
              "      flex-wrap:wrap;\n",
              "      gap: 12px;\n",
              "    }\n",
              "\n",
              "    .colab-df-convert {\n",
              "      background-color: #E8F0FE;\n",
              "      border: none;\n",
              "      border-radius: 50%;\n",
              "      cursor: pointer;\n",
              "      display: none;\n",
              "      fill: #1967D2;\n",
              "      height: 32px;\n",
              "      padding: 0 0 0 0;\n",
              "      width: 32px;\n",
              "    }\n",
              "\n",
              "    .colab-df-convert:hover {\n",
              "      background-color: #E2EBFA;\n",
              "      box-shadow: 0px 1px 2px rgba(60, 64, 67, 0.3), 0px 1px 3px 1px rgba(60, 64, 67, 0.15);\n",
              "      fill: #174EA6;\n",
              "    }\n",
              "\n",
              "    [theme=dark] .colab-df-convert {\n",
              "      background-color: #3B4455;\n",
              "      fill: #D2E3FC;\n",
              "    }\n",
              "\n",
              "    [theme=dark] .colab-df-convert:hover {\n",
              "      background-color: #434B5C;\n",
              "      box-shadow: 0px 1px 3px 1px rgba(0, 0, 0, 0.15);\n",
              "      filter: drop-shadow(0px 1px 2px rgba(0, 0, 0, 0.3));\n",
              "      fill: #FFFFFF;\n",
              "    }\n",
              "  </style>\n",
              "\n",
              "      <script>\n",
              "        const buttonEl =\n",
              "          document.querySelector('#df-3f490191-d83e-4fa5-a1aa-d06845016178 button.colab-df-convert');\n",
              "        buttonEl.style.display =\n",
              "          google.colab.kernel.accessAllowed ? 'block' : 'none';\n",
              "\n",
              "        async function convertToInteractive(key) {\n",
              "          const element = document.querySelector('#df-3f490191-d83e-4fa5-a1aa-d06845016178');\n",
              "          const dataTable =\n",
              "            await google.colab.kernel.invokeFunction('convertToInteractive',\n",
              "                                                     [key], {});\n",
              "          if (!dataTable) return;\n",
              "\n",
              "          const docLinkHtml = 'Like what you see? Visit the ' +\n",
              "            '<a target=\"_blank\" href=https://colab.research.google.com/notebooks/data_table.ipynb>data table notebook</a>'\n",
              "            + ' to learn more about interactive tables.';\n",
              "          element.innerHTML = '';\n",
              "          dataTable['output_type'] = 'display_data';\n",
              "          await google.colab.output.renderOutput(dataTable, element);\n",
              "          const docLink = document.createElement('div');\n",
              "          docLink.innerHTML = docLinkHtml;\n",
              "          element.appendChild(docLink);\n",
              "        }\n",
              "      </script>\n",
              "    </div>\n",
              "  </div>\n",
              "  "
            ]
          },
          "metadata": {},
          "execution_count": 8
        }
      ]
    },
    {
      "cell_type": "markdown",
      "source": [],
      "metadata": {
        "id": "tQGiw8q2inJB"
      }
    },
    {
      "cell_type": "code",
      "source": [
        "# Convert the 'date' column to a datetime data type\n",
        "#set the date as the index\n",
        "# HPG=HPG.set_index(pd.DatetimeIndex(HPG['date'].values))\n",
        "HPG['Time'] = np.arange(len(HPG.index))\n",
        "HPG['price'].plot(figsize=(16,5))"
      ],
      "metadata": {
        "colab": {
          "base_uri": "https://localhost:8080/",
          "height": 236
        },
        "id": "wrFPJ0BoYnu3",
        "outputId": "ec9f7f16-28bf-42f7-c5c1-696c9c6d0de5"
      },
      "execution_count": 9,
      "outputs": [
        {
          "output_type": "execute_result",
          "data": {
            "text/plain": [
              "<matplotlib.axes._subplots.AxesSubplot at 0x7f4e8b553a90>"
            ]
          },
          "metadata": {},
          "execution_count": 9
        },
        {
          "output_type": "display_data",
          "data": {
            "text/plain": [
              "<Figure size 1152x360 with 1 Axes>"
            ],
            "image/png": "[encoded data removed]"
          },
          "metadata": {
            "needs_background": "light"
          }
        }
      ]
    },
    {
      "cell_type": "code",
      "source": [
        "HPG_2 = HPG.copy()\n",
        "#plot the linear regression adn the close price"
      ],
      "metadata": {
        "id": "xY85nkVkraj3"
      },
      "execution_count": 10,
      "outputs": []
    },
    {
      "cell_type": "markdown",
      "source": [
        "#create the new column called Numbers"
      ],
      "metadata": {
        "id": "nQ1Tbm9zpHU0"
      }
    },
    {
      "cell_type": "markdown",
      "source": [],
      "metadata": {
        "id": "nB-O5qiepG70"
      }
    },
    {
      "cell_type": "code",
      "source": [
        "HPG_2['Numbers'] = list(range(0, len(HPG_2)))\n",
        "#store the 'Numbers' to X and ClosePrice to Y\n",
        "X = np.array(HPG_2[['Numbers']])\n",
        "Y = HPG_2['price'].values\n",
        "linearmodel = LinearRegression().fit(X,Y)\n",
        "print('Intercept' , linearmodel.intercept_)\n",
        "print('Slope' , linearmodel.coef_)\n",
        "# HPG_2['Numbers']"
      ],
      "metadata": {
        "colab": {
          "base_uri": "https://localhost:8080/"
        },
        "id": "gBDY1A79o75q",
        "outputId": "8a8b93ce-59a2-4cf7-cbf4-6e7c1fb6dbcb"
      },
      "execution_count": 13,
      "outputs": [
        {
          "output_type": "stream",
          "name": "stdout",
          "text": [
            "Intercept 867.5024870660654\n",
            "Slope [15.92604716]\n"
          ]
        }
      ]
    },
    {
      "cell_type": "code",
      "source": [
        "#prepare the data for visualization\n",
        "#store the predicted prices from the model and store them into y_pred\n",
        "#y = ax + b \n",
        "y_pred = linearmodel.coef_* X + linearmodel.intercept_\n",
        "#store the y_pred into new colums call Predicted\n",
        "HPG_2['Predicted'] =  y_pred\n",
        "#plot the data\n",
        "HPG_2['Predicted'].plot(figsize=(10,5),legend = True ,color = 'orange')\n",
        "HPG_2['price'].plot(figsize=(10,5),legend = True )\n",
        "plt.title('Close Price History HPG')"
      ],
      "metadata": {
        "colab": {
          "base_uri": "https://localhost:8080/",
          "height": 353
        },
        "id": "MYLvgNWnqLYu",
        "outputId": "702dcb6e-7cab-40bf-fac3-11ddbc8aca20"
      },
      "execution_count": 14,
      "outputs": [
        {
          "output_type": "execute_result",
          "data": {
            "text/plain": [
              "Text(0.5, 1.0, 'Close Price History HPG')"
            ]
          },
          "metadata": {},
          "execution_count": 14
        },
        {
          "output_type": "display_data",
          "data": {
            "text/plain": [
              "<Figure size 720x360 with 1 Axes>"
            ],
            "image/png": "[encoded data removed]"
          },
          "metadata": {
            "needs_background": "light"
          }
        }
      ]
    },
    {
      "cell_type": "markdown",
      "source": [],
      "metadata": {
        "id": "rn_DEMVgo6p0"
      }
    },
    {
      "cell_type": "code",
      "source": [
        "#độ phù hợp với tập test\n",
        "#Độ phù hợp với mô hình (cho biết mô hình này phù hợp ở mức %) \n",
        "# #Train data\n",
        "#train model bằng tập HPG_2\n",
        "from sklearn.metrics import mean_absolute_error, mean_squared_error, mean_absolute_percentage_error, r2_score\n",
        "mae = mean_absolute_error(HPG_2['price'], HPG_2['Predicted'])\n",
        "mape = mean_absolute_percentage_error(HPG_2['price'], HPG_2['Predicted'])\n",
        "mse = mean_squared_error(HPG_2['price'], HPG_2['Predicted'])\n",
        "rmse = np.sqrt(mse)\n",
        "r2 = r2_score(HPG_2['price'], HPG_2['Predicted'])\n",
        "\n",
        "print(f\"MAE: {mae:.2f}\")\n",
        "print(f\"MAPE: {mape * 100:.2f}%\")\n",
        "print(f\"MSE: {mse:.2f}\")\n",
        "print(f\"RMSE: {rmse:.2f}\")\n",
        "print(f\"R2: {r2:.2f}\")"
      ],
      "metadata": {
        "colab": {
          "base_uri": "https://localhost:8080/"
        },
        "id": "A7G7aj_w1Phr",
        "outputId": "e2de649d-f50a-4dc1-b8f0-eeac51b082cd"
      },
      "execution_count": 15,
      "outputs": [
        {
          "output_type": "stream",
          "name": "stdout",
          "text": [
            "MAE: 4629.36\n",
            "MAPE: 31.87%\n",
            "MSE: 39882303.91\n",
            "RMSE: 6315.24\n",
            "R2: 0.64\n"
          ]
        }
      ]
    },
    {
      "cell_type": "code",
      "source": [
        "#show the possible price for the next day\n",
        "linearmodel.coef_* (len(HPG_2) + 0) + linearmodel.intercept_ "
      ],
      "metadata": {
        "colab": {
          "base_uri": "https://localhost:8080/"
        },
        "id": "B9wh1W5frDUJ",
        "outputId": "d9688910-83d5-4452-8671-d0adf115bdc9"
      },
      "execution_count": 16,
      "outputs": [
        {
          "output_type": "execute_result",
          "data": {
            "text/plain": [
              "array([29725.49993978])"
            ]
          },
          "metadata": {},
          "execution_count": 16
        }
      ]
    },
    {
      "cell_type": "markdown",
      "source": [],
      "metadata": {
        "id": "NK_jacX4knqR"
      }
    },
    {
      "cell_type": "code",
      "source": [
        "x = np.array(POW.Time, dtype = float)\n",
        "y = np.array(POW.Price, dtype = float)\n",
        "z = [991,992,993,994,995,996,997,998,999,1000,1001,1002,1003,1004,1005,1006,1007,1008]"
      ],
      "metadata": {
        "id": "AjFf2NkTYu92"
      },
      "execution_count": null,
      "outputs": []
    },
    {
      "cell_type": "markdown",
      "source": [],
      "metadata": {
        "id": "lWsKh-bFG0wR"
      }
    },
    {
      "cell_type": "code",
      "source": [
        "coefs = poly.polyfit(x, y,1)\n",
        "x_new = np.linspace(x[0], x[-1] + no_of_predictions, num = len(x) + no_of_predictions)\n",
        "ffit = poly.polyval(x_new, coefs)\n",
        "pred = poly.polyval(z, coefs)\n",
        "predictions = pd.DataFrame(datelist_future,pred)\n",
        "datelist_future\n",
        "new_date=POW.index.append(datelist_future)\n",
        "new_date\n",
        "datelist_future"
      ],
      "metadata": {
        "colab": {
          "base_uri": "https://localhost:8080/"
        },
        "id": "b9S17wJtYxdo",
        "outputId": "950629c8-0168-47b9-ad98-48f38d8b5ad6"
      },
      "execution_count": null,
      "outputs": [
        {
          "output_type": "execute_result",
          "data": {
            "text/plain": [
              "DatetimeIndex(['2022-12-13', '2022-12-14', '2022-12-15', '2022-12-16',\n",
              "               '2022-12-17', '2022-12-18', '2022-12-19', '2022-12-20',\n",
              "               '2022-12-21', '2022-12-22', '2022-12-23', '2022-12-24',\n",
              "               '2022-12-25', '2022-12-26', '2022-12-27', '2022-12-28',\n",
              "               '2022-12-29', '2022-12-30'],\n",
              "              dtype='datetime64[ns]', freq='D')"
            ]
          },
          "metadata": {},
          "execution_count": 131
        }
      ]
    },
    {
      "cell_type": "code",
      "source": [
        "plt.rcParams['figure.figsize'] = [30, 10]\n",
        "plt.plot(POW.index, y, 'ro', label=\"Original data\")\n",
        "plt.plot(new_date, ffit, label = \"Fitted data\")\n",
        "plt.axvline( x = min(datelist_future), color='green', linewidth=2, linestyle='--', label = 'The right side of the vertical dashed line is the predictive data, the left side is the available data')\n",
        "plt.legend(loc='upper left')\n",
        "plt.title(\"Linear Regression :Predict Close Price POW\")\n",
        "plt.show()\n",
        "POW"
      ],
      "metadata": {
        "colab": {
          "base_uri": "https://localhost:8080/",
          "height": 1000
        },
        "id": "MJXRX9KkgLPg",
        "outputId": "a24b442a-66bb-470b-b474-5d140df30e8a"
      },
      "execution_count": null,
      "outputs": [
        {
          "output_type": "display_data",
          "data": {
            "text/plain": [
              "<Figure size 2160x720 with 1 Axes>"
            ],
            "image/png": "[encoded data removed]"
          },
          "metadata": {
            "needs_background": "light"
          }
        },
        {
          "output_type": "execute_result",
          "data": {
            "text/plain": [
              "                  Date  Price   Open   High    Low     Vol. Change %  Time\n",
              "2018-12-12  12/12/2018  15300  15100  15400  15100  540.08K    2.00%     0\n",
              "2018-12-13  12/13/2018  15400  15400  15500  15300  896.69K    0.65%     1\n",
              "2018-12-14  12/14/2018  15200  15400  15500  15200    1.08M   -1.30%     2\n",
              "2018-12-17  12/17/2018  14800  15300  15300  14800  983.13K   -2.63%     3\n",
              "2018-12-18  12/18/2018  15000  14700  15000  14400    1.88M    1.35%     4\n",
              "...                ...    ...    ...    ...    ...      ...      ...   ...\n",
              "2022-12-06   12/6/2022  10900  11500  11550  10900   12.34M   -5.22%   986\n",
              "2022-12-07   12/7/2022  10950  10900  11150  10750    8.78M    0.46%   987\n",
              "2022-12-08   12/8/2022  11200  11100  11350  11000    7.99M    2.28%   988\n",
              "2022-12-09   12/9/2022  11200  11300  11300  11050    4.90M    0.00%   989\n",
              "2022-12-12  12/12/2022  11150  11200  11550  11150    9.55M   -0.45%   990\n",
              "\n",
              "[991 rows x 8 columns]"
            ],
            "text/html": [
              "\n",
              "  <div id=\"df-2e703e29-dba4-4970-bf85-477060ed8ddb\">\n",
              "    <div class=\"colab-df-container\">\n",
              "      <div>\n",
              "<style scoped>\n",
              "    .dataframe tbody tr th:only-of-type {\n",
              "        vertical-align: middle;\n",
              "    }\n",
              "\n",
              "    .dataframe tbody tr th {\n",
              "        vertical-align: top;\n",
              "    }\n",
              "\n",
              "    .dataframe thead th {\n",
              "        text-align: right;\n",
              "    }\n",
              "</style>\n",
              "<table border=\"1\" class=\"dataframe\">\n",
              "  <thead>\n",
              "    <tr style=\"text-align: right;\">\n",
              "      <th></th>\n",
              "      <th>Date</th>\n",
              "      <th>Price</th>\n",
              "      <th>Open</th>\n",
              "      <th>High</th>\n",
              "      <th>Low</th>\n",
              "      <th>Vol.</th>\n",
              "      <th>Change %</th>\n",
              "      <th>Time</th>\n",
              "    </tr>\n",
              "  </thead>\n",
              "  <tbody>\n",
              "    <tr>\n",
              "      <th>2018-12-12</th>\n",
              "      <td>12/12/2018</td>\n",
              "      <td>15300</td>\n",
              "      <td>15100</td>\n",
              "      <td>15400</td>\n",
              "      <td>15100</td>\n",
              "      <td>540.08K</td>\n",
              "      <td>2.00%</td>\n",
              "      <td>0</td>\n",
              "    </tr>\n",
              "    <tr>\n",
              "      <th>2018-12-13</th>\n",
              "      <td>12/13/2018</td>\n",
              "      <td>15400</td>\n",
              "      <td>15400</td>\n",
              "      <td>15500</td>\n",
              "      <td>15300</td>\n",
              "      <td>896.69K</td>\n",
              "      <td>0.65%</td>\n",
              "      <td>1</td>\n",
              "    </tr>\n",
              "    <tr>\n",
              "      <th>2018-12-14</th>\n",
              "      <td>12/14/2018</td>\n",
              "      <td>15200</td>\n",
              "      <td>15400</td>\n",
              "      <td>15500</td>\n",
              "      <td>15200</td>\n",
              "      <td>1.08M</td>\n",
              "      <td>-1.30%</td>\n",
              "      <td>2</td>\n",
              "    </tr>\n",
              "    <tr>\n",
              "      <th>2018-12-17</th>\n",
              "      <td>12/17/2018</td>\n",
              "      <td>14800</td>\n",
              "      <td>15300</td>\n",
              "      <td>15300</td>\n",
              "      <td>14800</td>\n",
              "      <td>983.13K</td>\n",
              "      <td>-2.63%</td>\n",
              "      <td>3</td>\n",
              "    </tr>\n",
              "    <tr>\n",
              "      <th>2018-12-18</th>\n",
              "      <td>12/18/2018</td>\n",
              "      <td>15000</td>\n",
              "      <td>14700</td>\n",
              "      <td>15000</td>\n",
              "      <td>14400</td>\n",
              "      <td>1.88M</td>\n",
              "      <td>1.35%</td>\n",
              "      <td>4</td>\n",
              "    </tr>\n",
              "    <tr>\n",
              "      <th>...</th>\n",
              "      <td>...</td>\n",
              "      <td>...</td>\n",
              "      <td>...</td>\n",
              "      <td>...</td>\n",
              "      <td>...</td>\n",
              "      <td>...</td>\n",
              "      <td>...</td>\n",
              "      <td>...</td>\n",
              "    </tr>\n",
              "    <tr>\n",
              "      <th>2022-12-06</th>\n",
              "      <td>12/6/2022</td>\n",
              "      <td>10900</td>\n",
              "      <td>11500</td>\n",
              "      <td>11550</td>\n",
              "      <td>10900</td>\n",
              "      <td>12.34M</td>\n",
              "      <td>-5.22%</td>\n",
              "      <td>986</td>\n",
              "    </tr>\n",
              "    <tr>\n",
              "      <th>2022-12-07</th>\n",
              "      <td>12/7/2022</td>\n",
              "      <td>10950</td>\n",
              "      <td>10900</td>\n",
              "      <td>11150</td>\n",
              "      <td>10750</td>\n",
              "      <td>8.78M</td>\n",
              "      <td>0.46%</td>\n",
              "      <td>987</td>\n",
              "    </tr>\n",
              "    <tr>\n",
              "      <th>2022-12-08</th>\n",
              "      <td>12/8/2022</td>\n",
              "      <td>11200</td>\n",
              "      <td>11100</td>\n",
              "      <td>11350</td>\n",
              "      <td>11000</td>\n",
              "      <td>7.99M</td>\n",
              "      <td>2.28%</td>\n",
              "      <td>988</td>\n",
              "    </tr>\n",
              "    <tr>\n",
              "      <th>2022-12-09</th>\n",
              "      <td>12/9/2022</td>\n",
              "      <td>11200</td>\n",
              "      <td>11300</td>\n",
              "      <td>11300</td>\n",
              "      <td>11050</td>\n",
              "      <td>4.90M</td>\n",
              "      <td>0.00%</td>\n",
              "      <td>989</td>\n",
              "    </tr>\n",
              "    <tr>\n",
              "      <th>2022-12-12</th>\n",
              "      <td>12/12/2022</td>\n",
              "      <td>11150</td>\n",
              "      <td>11200</td>\n",
              "      <td>11550</td>\n",
              "      <td>11150</td>\n",
              "      <td>9.55M</td>\n",
              "      <td>-0.45%</td>\n",
              "      <td>990</td>\n",
              "    </tr>\n",
              "  </tbody>\n",
              "</table>\n",
              "<p>991 rows × 8 columns</p>\n",
              "</div>\n",
              "      <button class=\"colab-df-convert\" onclick=\"convertToInteractive('df-2e703e29-dba4-4970-bf85-477060ed8ddb')\"\n",
              "              title=\"Convert this dataframe to an interactive table.\"\n",
              "              style=\"display:none;\">\n",
              "        \n",
              "  <svg xmlns=\"http://www.w3.org/2000/svg\" height=\"24px\"viewBox=\"0 0 24 24\"\n",
              "       width=\"24px\">\n",
              "    <path d=\"M0 0h24v24H0V0z\" fill=\"none\"/>\n",
              "    <path d=\"M18.56 5.44l.94 2.06.94-2.06 2.06-.94-2.06-.94-.94-2.06-.94 2.06-2.06.94zm-11 1L8.5 8.5l.94-2.06 2.06-.94-2.06-.94L8.5 2.5l-.94 2.06-2.06.94zm10 10l.94 2.06.94-2.06 2.06-.94-2.06-.94-.94-2.06-.94 2.06-2.06.94z\"/><path d=\"M17.41 7.96l-1.37-1.37c-.4-.4-.92-.59-1.43-.59-.52 0-1.04.2-1.43.59L10.3 9.45l-7.72 7.72c-.78.78-.78 2.05 0 2.83L4 21.41c.39.39.9.59 1.41.59.51 0 1.02-.2 1.41-.59l7.78-7.78 2.81-2.81c.8-.78.8-2.07 0-2.86zM5.41 20L4 18.59l7.72-7.72 1.47 1.35L5.41 20z\"/>\n",
              "  </svg>\n",
              "      </button>\n",
              "      \n",
              "  <style>\n",
              "    .colab-df-container {\n",
              "      display:flex;\n",
              "      flex-wrap:wrap;\n",
              "      gap: 12px;\n",
              "    }\n",
              "\n",
              "    .colab-df-convert {\n",
              "      background-color: #E8F0FE;\n",
              "      border: none;\n",
              "      border-radius: 50%;\n",
              "      cursor: pointer;\n",
              "      display: none;\n",
              "      fill: #1967D2;\n",
              "      height: 32px;\n",
              "      padding: 0 0 0 0;\n",
              "      width: 32px;\n",
              "    }\n",
              "\n",
              "    .colab-df-convert:hover {\n",
              "      background-color: #E2EBFA;\n",
              "      box-shadow: 0px 1px 2px rgba(60, 64, 67, 0.3), 0px 1px 3px 1px rgba(60, 64, 67, 0.15);\n",
              "      fill: #174EA6;\n",
              "    }\n",
              "\n",
              "    [theme=dark] .colab-df-convert {\n",
              "      background-color: #3B4455;\n",
              "      fill: #D2E3FC;\n",
              "    }\n",
              "\n",
              "    [theme=dark] .colab-df-convert:hover {\n",
              "      background-color: #434B5C;\n",
              "      box-shadow: 0px 1px 3px 1px rgba(0, 0, 0, 0.15);\n",
              "      filter: drop-shadow(0px 1px 2px rgba(0, 0, 0, 0.3));\n",
              "      fill: #FFFFFF;\n",
              "    }\n",
              "  </style>\n",
              "\n",
              "      <script>\n",
              "        const buttonEl =\n",
              "          document.querySelector('#df-2e703e29-dba4-4970-bf85-477060ed8ddb button.colab-df-convert');\n",
              "        buttonEl.style.display =\n",
              "          google.colab.kernel.accessAllowed ? 'block' : 'none';\n",
              "\n",
              "        async function convertToInteractive(key) {\n",
              "          const element = document.querySelector('#df-2e703e29-dba4-4970-bf85-477060ed8ddb');\n",
              "          const dataTable =\n",
              "            await google.colab.kernel.invokeFunction('convertToInteractive',\n",
              "                                                     [key], {});\n",
              "          if (!dataTable) return;\n",
              "\n",
              "          const docLinkHtml = 'Like what you see? Visit the ' +\n",
              "            '<a target=\"_blank\" href=https://colab.research.google.com/notebooks/data_table.ipynb>data table notebook</a>'\n",
              "            + ' to learn more about interactive tables.';\n",
              "          element.innerHTML = '';\n",
              "          dataTable['output_type'] = 'display_data';\n",
              "          await google.colab.output.renderOutput(dataTable, element);\n",
              "          const docLink = document.createElement('div');\n",
              "          docLink.innerHTML = docLinkHtml;\n",
              "          element.appendChild(docLink);\n",
              "        }\n",
              "      </script>\n",
              "    </div>\n",
              "  </div>\n",
              "  "
            ]
          },
          "metadata": {},
          "execution_count": 130
        }
      ]
    },
    {
      "cell_type": "code",
      "source": [],
      "metadata": {
        "id": "hfe6eOLR6mqt",
        "colab": {
          "base_uri": "https://localhost:8080/",
          "height": 207
        },
        "outputId": "52ef0444-21b0-4b62-d7fa-73feaf0ad3f1"
      },
      "execution_count": null,
      "outputs": [
        {
          "output_type": "error",
          "ename": "NameError",
          "evalue": "ignored",
          "traceback": [
            "\u001b[0;31m---------------------------------------------------------------------------\u001b[0m",
            "\u001b[0;31mNameError\u001b[0m                                 Traceback (most recent call last)",
            "\u001b[0;32m<ipython-input-22-ed733827db7e>\u001b[0m in \u001b[0;36m<module>\u001b[0;34m\u001b[0m\n\u001b[1;32m      1\u001b[0m \u001b[0;31m#độ phù hợp với tập test\u001b[0m\u001b[0;34m\u001b[0m\u001b[0;34m\u001b[0m\u001b[0;34m\u001b[0m\u001b[0m\n\u001b[0;32m----> 2\u001b[0;31m \u001b[0mprint\u001b[0m\u001b[0;34m(\u001b[0m\u001b[0;34m\"R-squared for trainning dataset:{}\"\u001b[0m\u001b[0;34m.\u001b[0m\u001b[0mformat\u001b[0m\u001b[0;34m(\u001b[0m\u001b[0mnp\u001b[0m\u001b[0;34m.\u001b[0m\u001b[0mround\u001b[0m\u001b[0;34m(\u001b[0m\u001b[0mreg_scaled\u001b[0m\u001b[0;34m.\u001b[0m\u001b[0mscore\u001b[0m\u001b[0;34m(\u001b[0m\u001b[0mx\u001b[0m\u001b[0;34m,\u001b[0m\u001b[0my\u001b[0m\u001b[0;34m)\u001b[0m\u001b[0;34m)\u001b[0m\u001b[0;34m)\u001b[0m\u001b[0;34m)\u001b[0m\u001b[0;34m\u001b[0m\u001b[0;34m\u001b[0m\u001b[0m\n\u001b[0m",
            "\u001b[0;31mNameError\u001b[0m: name 'reg_scaled' is not defined"
          ]
        }
      ]
    },
    {
      "cell_type": "code",
      "source": [],
      "metadata": {
        "id": "8ZzSaFjI7iHx"
      },
      "execution_count": null,
      "outputs": []
    }
  ]
}