{
 "cells": [
  {
   "cell_type": "code",
   "execution_count": 1,
   "id": "a55bf40d",
   "metadata": {},
   "outputs": [
    {
     "name": "stderr",
     "output_type": "stream",
     "text": [
      "C:\\Users\\Dell\\anaconda3\\lib\\site-packages\\scipy\\__init__.py:146: UserWarning: A NumPy version >=1.16.5 and <1.23.0 is required for this version of SciPy (detected version 1.23.5\n",
      "  warnings.warn(f\"A NumPy version >={np_minversion} and <{np_maxversion}\"\n"
     ]
    }
   ],
   "source": [
    "# Import libraries for data manipulation and analysis\n",
    "import pandas as pd\n",
    "import numpy as np\n",
    "\n",
    "# Import libraries for working with dates and times\n",
    "import datetime as dt\n",
    "\n",
    "# Import TensorFlow and Keras libraries for building and training neural networks\n",
    "from tensorflow.keras.models import Sequential\n",
    "from tensorflow.keras.layers import Dense, Dropout, LSTM\n",
    "from keras.models import load_model\n",
    "from keras.callbacks import ModelCheckpoint\n",
    "from keras.regularizers import l2\n",
    "\n",
    "# Import scikit-learn library for various metrics and preprocessing tools\n",
    "from sklearn.metrics import mean_absolute_error, mean_squared_error, mean_absolute_percentage_error, r2_score\n",
    "from sklearn.preprocessing import MinMaxScaler\n",
    "\n",
    "# Import matplotlib library for creating plots and charts\n",
    "import matplotlib.pyplot as plt\n",
    "\n",
    "# Magic command to display plots inline in the Jupyter Notebook\n",
    "%matplotlib inline"
   ]
  },
  {
   "cell_type": "code",
   "execution_count": 2,
   "id": "9b3b26a4",
   "metadata": {},
   "outputs": [],
   "source": [
    "# Read in the HPG dataset from a CSV file\n",
    "df=pd.read_csv(\"E:\\HoaPhatdataset.csv\")"
   ]
  },
  {
   "cell_type": "code",
   "execution_count": 3,
   "id": "75669358",
   "metadata": {},
   "outputs": [],
   "source": [
    "# Convert the 'date' column to a datetime data type\n",
    "df['date']=pd.to_datetime(df.date,format='%m/%d/%Y')"
   ]
  },
  {
   "cell_type": "code",
   "execution_count": 4,
   "id": "f4fb22a7",
   "metadata": {},
   "outputs": [
    {
     "data": {
      "text/plain": [
       "(1812, 7)"
      ]
     },
     "execution_count": 4,
     "metadata": {},
     "output_type": "execute_result"
    }
   ],
   "source": [
    "# The size of data\n",
    "df.shape"
   ]
  },
  {
   "cell_type": "code",
   "execution_count": 5,
   "id": "5ba4806e",
   "metadata": {},
   "outputs": [
    {
     "data": {
      "text/html": [
       "<div>\n",
       "<style scoped>\n",
       "    .dataframe tbody tr th:only-of-type {\n",
       "        vertical-align: middle;\n",
       "    }\n",
       "\n",
       "    .dataframe tbody tr th {\n",
       "        vertical-align: top;\n",
       "    }\n",
       "\n",
       "    .dataframe thead th {\n",
       "        text-align: right;\n",
       "    }\n",
       "</style>\n",
       "<table border=\"1\" class=\"dataframe\">\n",
       "  <thead>\n",
       "    <tr style=\"text-align: right;\">\n",
       "      <th></th>\n",
       "      <th>date</th>\n",
       "      <th>price</th>\n",
       "      <th>Open</th>\n",
       "      <th>High</th>\n",
       "      <th>Low</th>\n",
       "      <th>Vol.</th>\n",
       "      <th>Change %</th>\n",
       "    </tr>\n",
       "  </thead>\n",
       "  <tbody>\n",
       "    <tr>\n",
       "      <th>0</th>\n",
       "      <td>2015-09-07</td>\n",
       "      <td>3861.9</td>\n",
       "      <td>3888.4</td>\n",
       "      <td>3941.3</td>\n",
       "      <td>3848.7</td>\n",
       "      <td>6.33M</td>\n",
       "      <td>-1.69%</td>\n",
       "    </tr>\n",
       "    <tr>\n",
       "      <th>1</th>\n",
       "      <td>2015-09-08</td>\n",
       "      <td>3994.2</td>\n",
       "      <td>3875.2</td>\n",
       "      <td>3994.2</td>\n",
       "      <td>3861.9</td>\n",
       "      <td>5.76M</td>\n",
       "      <td>3.43%</td>\n",
       "    </tr>\n",
       "    <tr>\n",
       "      <th>2</th>\n",
       "      <td>2015-09-09</td>\n",
       "      <td>4060.3</td>\n",
       "      <td>4047.1</td>\n",
       "      <td>4073.5</td>\n",
       "      <td>4007.4</td>\n",
       "      <td>10.08M</td>\n",
       "      <td>1.65%</td>\n",
       "    </tr>\n",
       "    <tr>\n",
       "      <th>3</th>\n",
       "      <td>2015-09-10</td>\n",
       "      <td>4020.6</td>\n",
       "      <td>4007.4</td>\n",
       "      <td>4060.3</td>\n",
       "      <td>3967.7</td>\n",
       "      <td>4.93M</td>\n",
       "      <td>-0.98%</td>\n",
       "    </tr>\n",
       "    <tr>\n",
       "      <th>4</th>\n",
       "      <td>2015-09-11</td>\n",
       "      <td>3928.1</td>\n",
       "      <td>4007.4</td>\n",
       "      <td>4020.6</td>\n",
       "      <td>3928.1</td>\n",
       "      <td>6.22M</td>\n",
       "      <td>-2.30%</td>\n",
       "    </tr>\n",
       "  </tbody>\n",
       "</table>\n",
       "</div>"
      ],
      "text/plain": [
       "        date   price    Open    High     Low    Vol. Change %\n",
       "0 2015-09-07  3861.9  3888.4  3941.3  3848.7   6.33M   -1.69%\n",
       "1 2015-09-08  3994.2  3875.2  3994.2  3861.9   5.76M    3.43%\n",
       "2 2015-09-09  4060.3  4047.1  4073.5  4007.4  10.08M    1.65%\n",
       "3 2015-09-10  4020.6  4007.4  4060.3  3967.7   4.93M   -0.98%\n",
       "4 2015-09-11  3928.1  4007.4  4020.6  3928.1   6.22M   -2.30%"
      ]
     },
     "execution_count": 5,
     "metadata": {},
     "output_type": "execute_result"
    }
   ],
   "source": [
    "#dữ liệu 5 dòng đầu\n",
    "df.head(5)"
   ]
  },
  {
   "cell_type": "code",
   "execution_count": 6,
   "id": "7b339af1",
   "metadata": {},
   "outputs": [],
   "source": [
    "#set the date as the index\n",
    "df=df.set_index(pd.DatetimeIndex(df['date'].values))"
   ]
  },
  {
   "cell_type": "code",
   "execution_count": 7,
   "id": "2d812ac9",
   "metadata": {},
   "outputs": [
    {
     "name": "stdout",
     "output_type": "stream",
     "text": [
      "<class 'pandas.core.frame.DataFrame'>\n",
      "DatetimeIndex: 1812 entries, 2015-09-07 to 2022-11-30\n",
      "Data columns (total 7 columns):\n",
      " #   Column    Non-Null Count  Dtype         \n",
      "---  ------    --------------  -----         \n",
      " 0   date      1812 non-null   datetime64[ns]\n",
      " 1   price     1812 non-null   float64       \n",
      " 2   Open      1812 non-null   float64       \n",
      " 3   High      1812 non-null   float64       \n",
      " 4   Low       1812 non-null   float64       \n",
      " 5   Vol.      1812 non-null   object        \n",
      " 6   Change %  1812 non-null   object        \n",
      "dtypes: datetime64[ns](1), float64(4), object(2)\n",
      "memory usage: 113.2+ KB\n"
     ]
    }
   ],
   "source": [
    "# xác định kiểu dữ liệu\n",
    "df.info()"
   ]
  },
  {
   "cell_type": "code",
   "execution_count": 8,
   "id": "6bc8edf1",
   "metadata": {},
   "outputs": [
    {
     "data": {
      "text/html": [
       "<div>\n",
       "<style scoped>\n",
       "    .dataframe tbody tr th:only-of-type {\n",
       "        vertical-align: middle;\n",
       "    }\n",
       "\n",
       "    .dataframe tbody tr th {\n",
       "        vertical-align: top;\n",
       "    }\n",
       "\n",
       "    .dataframe thead th {\n",
       "        text-align: right;\n",
       "    }\n",
       "</style>\n",
       "<table border=\"1\" class=\"dataframe\">\n",
       "  <thead>\n",
       "    <tr style=\"text-align: right;\">\n",
       "      <th></th>\n",
       "      <th>price</th>\n",
       "      <th>Open</th>\n",
       "      <th>High</th>\n",
       "      <th>Low</th>\n",
       "    </tr>\n",
       "  </thead>\n",
       "  <tbody>\n",
       "    <tr>\n",
       "      <th>count</th>\n",
       "      <td>1812.00000</td>\n",
       "      <td>1812.000000</td>\n",
       "      <td>1812.000000</td>\n",
       "      <td>1812.000000</td>\n",
       "    </tr>\n",
       "    <tr>\n",
       "      <th>mean</th>\n",
       "      <td>15288.53819</td>\n",
       "      <td>15294.660375</td>\n",
       "      <td>15508.131623</td>\n",
       "      <td>15089.505408</td>\n",
       "    </tr>\n",
       "    <tr>\n",
       "      <th>std</th>\n",
       "      <td>10456.63874</td>\n",
       "      <td>10482.328760</td>\n",
       "      <td>10623.617303</td>\n",
       "      <td>10328.726382</td>\n",
       "    </tr>\n",
       "    <tr>\n",
       "      <th>min</th>\n",
       "      <td>3280.00000</td>\n",
       "      <td>3187.400000</td>\n",
       "      <td>3293.200000</td>\n",
       "      <td>3161.000000</td>\n",
       "    </tr>\n",
       "    <tr>\n",
       "      <th>25%</th>\n",
       "      <td>7739.47500</td>\n",
       "      <td>7728.450000</td>\n",
       "      <td>7808.575000</td>\n",
       "      <td>7660.925000</td>\n",
       "    </tr>\n",
       "    <tr>\n",
       "      <th>50%</th>\n",
       "      <td>11578.70000</td>\n",
       "      <td>11605.100000</td>\n",
       "      <td>11727.400000</td>\n",
       "      <td>11435.350000</td>\n",
       "    </tr>\n",
       "    <tr>\n",
       "      <th>75%</th>\n",
       "      <td>20906.90000</td>\n",
       "      <td>20704.500000</td>\n",
       "      <td>21422.550000</td>\n",
       "      <td>20470.600000</td>\n",
       "    </tr>\n",
       "    <tr>\n",
       "      <th>max</th>\n",
       "      <td>43895.80000</td>\n",
       "      <td>43895.800000</td>\n",
       "      <td>44198.500000</td>\n",
       "      <td>43517.400000</td>\n",
       "    </tr>\n",
       "  </tbody>\n",
       "</table>\n",
       "</div>"
      ],
      "text/plain": [
       "             price          Open          High           Low\n",
       "count   1812.00000   1812.000000   1812.000000   1812.000000\n",
       "mean   15288.53819  15294.660375  15508.131623  15089.505408\n",
       "std    10456.63874  10482.328760  10623.617303  10328.726382\n",
       "min     3280.00000   3187.400000   3293.200000   3161.000000\n",
       "25%     7739.47500   7728.450000   7808.575000   7660.925000\n",
       "50%    11578.70000  11605.100000  11727.400000  11435.350000\n",
       "75%    20906.90000  20704.500000  21422.550000  20470.600000\n",
       "max    43895.80000  43895.800000  44198.500000  43517.400000"
      ]
     },
     "execution_count": 8,
     "metadata": {},
     "output_type": "execute_result"
    }
   ],
   "source": [
    "# mo ta kieu du lieu\n",
    "df.describe()"
   ]
  },
  {
   "cell_type": "code",
   "execution_count": 9,
   "id": "17ee991d",
   "metadata": {},
   "outputs": [],
   "source": [
    "# Create a new DataFrame containing only the 'date' and 'price' columns\n",
    "df1 = pd.DataFrame(df, columns=['date', 'price'])\n",
    "\n",
    "# Set the index of the DataFrame to the 'date' column\n",
    "df1.index = df1.date\n",
    "\n",
    "# Drop the 'date' column from the DataFrame\n",
    "df1.drop('date', axis=1, inplace=True)"
   ]
  },
  {
   "cell_type": "code",
   "execution_count": 24,
   "id": "9c823f49",
   "metadata": {},
   "outputs": [
    {
     "data": {
      "image/png": "[encoded data removed]",
      "text/plain": [
       "<Figure size 720x360 with 1 Axes>"
      ]
     },
     "metadata": {
      "needs_background": "light"
     },
     "output_type": "display_data"
    }
   ],
   "source": [
    "# Plot the 'price' column of the 'df' DataFrame\n",
    "plt.figure(figsize=(10,5))\n",
    "plt.plot(df['price'])\n",
    "plt.title('Price of HPG')\n",
    "plt.show()"
   ]
  },
  {
   "cell_type": "code",
   "execution_count": 11,
   "id": "3bb7e3ad",
   "metadata": {},
   "outputs": [],
   "source": [
    "# Split the 'df1' DataFrame into train and test datasets\n",
    "\n",
    "# Convert the 'df1' DataFrame to a NumPy array\n",
    "data = df1.values\n",
    "\n",
    "# Calculate the number of rows to use for the train dataset\n",
    "t = .7\n",
    "t = int(t * len(df))\n",
    "\n",
    "# Extract the train dataset from the data array\n",
    "train_data = data[:t]\n",
    "\n",
    "# Extract the test dataset from the data array\n",
    "test_data = data[t:]"
   ]
  },
  {
   "cell_type": "code",
   "execution_count": 12,
   "id": "50c867e6",
   "metadata": {},
   "outputs": [],
   "source": [
    "# Scale the data using a MinMaxScaler\n",
    "\n",
    "# Create a MinMaxScaler object with a specified range\n",
    "sc = MinMaxScaler(feature_range=(0, 1))\n",
    "\n",
    "# Fit the scaler to the data and transform the data\n",
    "sc_train = sc.fit_transform(data)"
   ]
  },
  {
   "cell_type": "code",
   "execution_count": 13,
   "id": "81e2a670",
   "metadata": {},
   "outputs": [],
   "source": [
    "# Create training datasets for the model\n",
    "x_train, y_train = [], []\n",
    "\n",
    "# Loop through the train data, starting from the 5th value\n",
    "for i in range(5, len(train_data)):\n",
    "    # Append the last 5 values to the x_train array\n",
    "    x_train.append(sc_train[i-5:i, 0])\n",
    "    # Append the current value to the y_train array\n",
    "    y_train.append(sc_train[i, 0])"
   ]
  },
  {
   "cell_type": "code",
   "execution_count": 14,
   "id": "fc2f3cf2",
   "metadata": {},
   "outputs": [],
   "source": [
    "# Convert the x_train and y_train arrays to NumPy arrays\n",
    "x_train = np.array(x_train)\n",
    "y_train = np.array(y_train)\n",
    "\n",
    "# Reshape the x_train and y_train arrays to be one-dimensional\n",
    "x_train = np.reshape(x_train, (x_train.shape[0], x_train.shape[1], 1))\n",
    "y_train = np.reshape(y_train, (y_train.shape[0], 1))"
   ]
  },
  {
   "cell_type": "code",
   "execution_count": 15,
   "id": "bebdb56e",
   "metadata": {
    "scrolled": true
   },
   "outputs": [
    {
     "name": "stdout",
     "output_type": "stream",
     "text": [
      "Epoch 1/80\n",
      "\n",
      "Epoch 1: loss improved from inf to 0.09083, saving model to save_model_7-3.hdf5\n",
      "26/26 - 13s - loss: 0.0908 - 13s/epoch - 510ms/step\n",
      "Epoch 2/80\n",
      "\n",
      "Epoch 2: loss improved from 0.09083 to 0.04122, saving model to save_model_7-3.hdf5\n",
      "26/26 - 0s - loss: 0.0412 - 350ms/epoch - 13ms/step\n",
      "Epoch 3/80\n",
      "\n",
      "Epoch 3: loss improved from 0.04122 to 0.02761, saving model to save_model_7-3.hdf5\n",
      "26/26 - 0s - loss: 0.0276 - 332ms/epoch - 13ms/step\n",
      "Epoch 4/80\n",
      "\n",
      "Epoch 4: loss improved from 0.02761 to 0.02386, saving model to save_model_7-3.hdf5\n",
      "26/26 - 0s - loss: 0.0239 - 302ms/epoch - 12ms/step\n",
      "Epoch 5/80\n",
      "\n",
      "Epoch 5: loss improved from 0.02386 to 0.02198, saving model to save_model_7-3.hdf5\n",
      "26/26 - 0s - loss: 0.0220 - 340ms/epoch - 13ms/step\n",
      "Epoch 6/80\n",
      "\n",
      "Epoch 6: loss improved from 0.02198 to 0.02016, saving model to save_model_7-3.hdf5\n",
      "26/26 - 0s - loss: 0.0202 - 317ms/epoch - 12ms/step\n",
      "Epoch 7/80\n",
      "\n",
      "Epoch 7: loss did not improve from 0.02016\n",
      "26/26 - 0s - loss: 0.0204 - 289ms/epoch - 11ms/step\n",
      "Epoch 8/80\n",
      "\n",
      "Epoch 8: loss improved from 0.02016 to 0.01886, saving model to save_model_7-3.hdf5\n",
      "26/26 - 0s - loss: 0.0189 - 314ms/epoch - 12ms/step\n",
      "Epoch 9/80\n",
      "\n",
      "Epoch 9: loss improved from 0.01886 to 0.01862, saving model to save_model_7-3.hdf5\n",
      "26/26 - 0s - loss: 0.0186 - 356ms/epoch - 14ms/step\n",
      "Epoch 10/80\n",
      "\n",
      "Epoch 10: loss improved from 0.01862 to 0.01742, saving model to save_model_7-3.hdf5\n",
      "26/26 - 0s - loss: 0.0174 - 358ms/epoch - 14ms/step\n",
      "Epoch 11/80\n",
      "\n",
      "Epoch 11: loss improved from 0.01742 to 0.01729, saving model to save_model_7-3.hdf5\n",
      "26/26 - 0s - loss: 0.0173 - 450ms/epoch - 17ms/step\n",
      "Epoch 12/80\n",
      "\n",
      "Epoch 12: loss improved from 0.01729 to 0.01622, saving model to save_model_7-3.hdf5\n",
      "26/26 - 1s - loss: 0.0162 - 596ms/epoch - 23ms/step\n",
      "Epoch 13/80\n",
      "\n",
      "Epoch 13: loss improved from 0.01622 to 0.01572, saving model to save_model_7-3.hdf5\n",
      "26/26 - 0s - loss: 0.0157 - 433ms/epoch - 17ms/step\n",
      "Epoch 14/80\n",
      "\n",
      "Epoch 14: loss improved from 0.01572 to 0.01565, saving model to save_model_7-3.hdf5\n",
      "26/26 - 1s - loss: 0.0157 - 590ms/epoch - 23ms/step\n",
      "Epoch 15/80\n",
      "\n",
      "Epoch 15: loss improved from 0.01565 to 0.01503, saving model to save_model_7-3.hdf5\n",
      "26/26 - 1s - loss: 0.0150 - 524ms/epoch - 20ms/step\n",
      "Epoch 16/80\n",
      "\n",
      "Epoch 16: loss improved from 0.01503 to 0.01451, saving model to save_model_7-3.hdf5\n",
      "26/26 - 0s - loss: 0.0145 - 390ms/epoch - 15ms/step\n",
      "Epoch 17/80\n",
      "\n",
      "Epoch 17: loss improved from 0.01451 to 0.01419, saving model to save_model_7-3.hdf5\n",
      "26/26 - 1s - loss: 0.0142 - 548ms/epoch - 21ms/step\n",
      "Epoch 18/80\n",
      "\n",
      "Epoch 18: loss did not improve from 0.01419\n",
      "26/26 - 0s - loss: 0.0148 - 360ms/epoch - 14ms/step\n",
      "Epoch 19/80\n",
      "\n",
      "Epoch 19: loss did not improve from 0.01419\n",
      "26/26 - 0s - loss: 0.0159 - 328ms/epoch - 13ms/step\n",
      "Epoch 20/80\n",
      "\n",
      "Epoch 20: loss did not improve from 0.01419\n",
      "26/26 - 0s - loss: 0.0147 - 370ms/epoch - 14ms/step\n",
      "Epoch 21/80\n",
      "\n",
      "Epoch 21: loss improved from 0.01419 to 0.01395, saving model to save_model_7-3.hdf5\n",
      "26/26 - 1s - loss: 0.0140 - 554ms/epoch - 21ms/step\n",
      "Epoch 22/80\n",
      "\n",
      "Epoch 22: loss improved from 0.01395 to 0.01369, saving model to save_model_7-3.hdf5\n",
      "26/26 - 1s - loss: 0.0137 - 500ms/epoch - 19ms/step\n",
      "Epoch 23/80\n",
      "\n",
      "Epoch 23: loss improved from 0.01369 to 0.01331, saving model to save_model_7-3.hdf5\n",
      "26/26 - 0s - loss: 0.0133 - 459ms/epoch - 18ms/step\n",
      "Epoch 24/80\n",
      "\n",
      "Epoch 24: loss did not improve from 0.01331\n",
      "26/26 - 0s - loss: 0.0136 - 402ms/epoch - 15ms/step\n",
      "Epoch 25/80\n",
      "\n",
      "Epoch 25: loss did not improve from 0.01331\n",
      "26/26 - 0s - loss: 0.0140 - 450ms/epoch - 17ms/step\n",
      "Epoch 26/80\n",
      "\n",
      "Epoch 26: loss improved from 0.01331 to 0.01330, saving model to save_model_7-3.hdf5\n",
      "26/26 - 0s - loss: 0.0133 - 474ms/epoch - 18ms/step\n",
      "Epoch 27/80\n",
      "\n",
      "Epoch 27: loss did not improve from 0.01330\n",
      "26/26 - 0s - loss: 0.0150 - 397ms/epoch - 15ms/step\n",
      "Epoch 28/80\n",
      "\n",
      "Epoch 28: loss did not improve from 0.01330\n",
      "26/26 - 1s - loss: 0.0133 - 540ms/epoch - 21ms/step\n",
      "Epoch 29/80\n",
      "\n",
      "Epoch 29: loss improved from 0.01330 to 0.01316, saving model to save_model_7-3.hdf5\n",
      "26/26 - 0s - loss: 0.0132 - 407ms/epoch - 16ms/step\n",
      "Epoch 30/80\n",
      "\n",
      "Epoch 30: loss did not improve from 0.01316\n",
      "26/26 - 0s - loss: 0.0139 - 382ms/epoch - 15ms/step\n",
      "Epoch 31/80\n",
      "\n",
      "Epoch 31: loss did not improve from 0.01316\n",
      "26/26 - 1s - loss: 0.0150 - 500ms/epoch - 19ms/step\n",
      "Epoch 32/80\n",
      "\n",
      "Epoch 32: loss did not improve from 0.01316\n",
      "26/26 - 0s - loss: 0.0132 - 382ms/epoch - 15ms/step\n",
      "Epoch 33/80\n",
      "\n",
      "Epoch 33: loss improved from 0.01316 to 0.01218, saving model to save_model_7-3.hdf5\n",
      "26/26 - 0s - loss: 0.0122 - 481ms/epoch - 19ms/step\n",
      "Epoch 34/80\n",
      "\n",
      "Epoch 34: loss did not improve from 0.01218\n",
      "26/26 - 0s - loss: 0.0130 - 427ms/epoch - 16ms/step\n",
      "Epoch 35/80\n",
      "\n",
      "Epoch 35: loss did not improve from 0.01218\n",
      "26/26 - 0s - loss: 0.0133 - 410ms/epoch - 16ms/step\n",
      "Epoch 36/80\n",
      "\n",
      "Epoch 36: loss did not improve from 0.01218\n",
      "26/26 - 0s - loss: 0.0130 - 384ms/epoch - 15ms/step\n",
      "Epoch 37/80\n",
      "\n",
      "Epoch 37: loss did not improve from 0.01218\n",
      "26/26 - 0s - loss: 0.0131 - 362ms/epoch - 14ms/step\n",
      "Epoch 38/80\n",
      "\n",
      "Epoch 38: loss did not improve from 0.01218\n",
      "26/26 - 0s - loss: 0.0129 - 345ms/epoch - 13ms/step\n",
      "Epoch 39/80\n",
      "\n",
      "Epoch 39: loss improved from 0.01218 to 0.01207, saving model to save_model_7-3.hdf5\n",
      "26/26 - 0s - loss: 0.0121 - 385ms/epoch - 15ms/step\n",
      "Epoch 40/80\n",
      "\n",
      "Epoch 40: loss improved from 0.01207 to 0.01203, saving model to save_model_7-3.hdf5\n",
      "26/26 - 0s - loss: 0.0120 - 367ms/epoch - 14ms/step\n",
      "Epoch 41/80\n",
      "\n",
      "Epoch 41: loss did not improve from 0.01203\n",
      "26/26 - 0s - loss: 0.0133 - 322ms/epoch - 12ms/step\n",
      "Epoch 42/80\n",
      "\n",
      "Epoch 42: loss did not improve from 0.01203\n",
      "26/26 - 0s - loss: 0.0135 - 317ms/epoch - 12ms/step\n",
      "Epoch 43/80\n",
      "\n",
      "Epoch 43: loss improved from 0.01203 to 0.01191, saving model to save_model_7-3.hdf5\n",
      "26/26 - 0s - loss: 0.0119 - 382ms/epoch - 15ms/step\n",
      "Epoch 44/80\n",
      "\n",
      "Epoch 44: loss improved from 0.01191 to 0.01182, saving model to save_model_7-3.hdf5\n",
      "26/26 - 0s - loss: 0.0118 - 394ms/epoch - 15ms/step\n",
      "Epoch 45/80\n",
      "\n",
      "Epoch 45: loss improved from 0.01182 to 0.01176, saving model to save_model_7-3.hdf5\n",
      "26/26 - 0s - loss: 0.0118 - 357ms/epoch - 14ms/step\n",
      "Epoch 46/80\n",
      "\n",
      "Epoch 46: loss did not improve from 0.01176\n",
      "26/26 - 0s - loss: 0.0120 - 326ms/epoch - 13ms/step\n",
      "Epoch 47/80\n",
      "\n",
      "Epoch 47: loss did not improve from 0.01176\n",
      "26/26 - 0s - loss: 0.0121 - 320ms/epoch - 12ms/step\n",
      "Epoch 48/80\n",
      "\n",
      "Epoch 48: loss did not improve from 0.01176\n",
      "26/26 - 0s - loss: 0.0125 - 322ms/epoch - 12ms/step\n",
      "Epoch 49/80\n",
      "\n",
      "Epoch 49: loss did not improve from 0.01176\n",
      "26/26 - 0s - loss: 0.0127 - 272ms/epoch - 10ms/step\n",
      "Epoch 50/80\n",
      "\n",
      "Epoch 50: loss did not improve from 0.01176\n",
      "26/26 - 0s - loss: 0.0120 - 353ms/epoch - 14ms/step\n",
      "Epoch 51/80\n",
      "\n",
      "Epoch 51: loss did not improve from 0.01176\n",
      "26/26 - 0s - loss: 0.0119 - 357ms/epoch - 14ms/step\n",
      "Epoch 52/80\n",
      "\n",
      "Epoch 52: loss improved from 0.01176 to 0.01176, saving model to save_model_7-3.hdf5\n",
      "26/26 - 1s - loss: 0.0118 - 586ms/epoch - 23ms/step\n",
      "Epoch 53/80\n",
      "\n",
      "Epoch 53: loss did not improve from 0.01176\n",
      "26/26 - 0s - loss: 0.0127 - 338ms/epoch - 13ms/step\n",
      "Epoch 54/80\n",
      "\n",
      "Epoch 54: loss did not improve from 0.01176\n",
      "26/26 - 0s - loss: 0.0120 - 345ms/epoch - 13ms/step\n",
      "Epoch 55/80\n",
      "\n",
      "Epoch 55: loss did not improve from 0.01176\n",
      "26/26 - 0s - loss: 0.0121 - 380ms/epoch - 15ms/step\n",
      "Epoch 56/80\n",
      "\n",
      "Epoch 56: loss did not improve from 0.01176\n",
      "26/26 - 0s - loss: 0.0120 - 339ms/epoch - 13ms/step\n",
      "Epoch 57/80\n",
      "\n",
      "Epoch 57: loss did not improve from 0.01176\n",
      "26/26 - 0s - loss: 0.0121 - 345ms/epoch - 13ms/step\n",
      "Epoch 58/80\n",
      "\n",
      "Epoch 58: loss did not improve from 0.01176\n",
      "26/26 - 0s - loss: 0.0120 - 367ms/epoch - 14ms/step\n",
      "Epoch 59/80\n",
      "\n",
      "Epoch 59: loss did not improve from 0.01176\n",
      "26/26 - 0s - loss: 0.0124 - 412ms/epoch - 16ms/step\n",
      "Epoch 60/80\n",
      "\n",
      "Epoch 60: loss improved from 0.01176 to 0.01165, saving model to save_model_7-3.hdf5\n",
      "26/26 - 1s - loss: 0.0116 - 502ms/epoch - 19ms/step\n",
      "Epoch 61/80\n",
      "\n",
      "Epoch 61: loss did not improve from 0.01165\n",
      "26/26 - 0s - loss: 0.0120 - 436ms/epoch - 17ms/step\n",
      "Epoch 62/80\n",
      "\n",
      "Epoch 62: loss improved from 0.01165 to 0.01150, saving model to save_model_7-3.hdf5\n",
      "26/26 - 0s - loss: 0.0115 - 432ms/epoch - 17ms/step\n",
      "Epoch 63/80\n",
      "\n",
      "Epoch 63: loss did not improve from 0.01150\n",
      "26/26 - 0s - loss: 0.0116 - 370ms/epoch - 14ms/step\n",
      "Epoch 64/80\n",
      "\n",
      "Epoch 64: loss did not improve from 0.01150\n",
      "26/26 - 0s - loss: 0.0121 - 434ms/epoch - 17ms/step\n",
      "Epoch 65/80\n",
      "\n",
      "Epoch 65: loss did not improve from 0.01150\n",
      "26/26 - 0s - loss: 0.0119 - 400ms/epoch - 15ms/step\n",
      "Epoch 66/80\n",
      "\n",
      "Epoch 66: loss did not improve from 0.01150\n",
      "26/26 - 0s - loss: 0.0125 - 380ms/epoch - 15ms/step\n",
      "Epoch 67/80\n",
      "\n",
      "Epoch 67: loss did not improve from 0.01150\n",
      "26/26 - 0s - loss: 0.0119 - 392ms/epoch - 15ms/step\n",
      "Epoch 68/80\n",
      "\n",
      "Epoch 68: loss did not improve from 0.01150\n",
      "26/26 - 0s - loss: 0.0117 - 446ms/epoch - 17ms/step\n",
      "Epoch 69/80\n",
      "\n",
      "Epoch 69: loss did not improve from 0.01150\n",
      "26/26 - 1s - loss: 0.0130 - 585ms/epoch - 23ms/step\n",
      "Epoch 70/80\n",
      "\n",
      "Epoch 70: loss improved from 0.01150 to 0.01091, saving model to save_model_7-3.hdf5\n",
      "26/26 - 1s - loss: 0.0109 - 528ms/epoch - 20ms/step\n",
      "Epoch 71/80\n",
      "\n",
      "Epoch 71: loss did not improve from 0.01091\n",
      "26/26 - 1s - loss: 0.0117 - 615ms/epoch - 24ms/step\n",
      "Epoch 72/80\n",
      "\n",
      "Epoch 72: loss did not improve from 0.01091\n",
      "26/26 - 0s - loss: 0.0120 - 430ms/epoch - 17ms/step\n",
      "Epoch 73/80\n",
      "\n",
      "Epoch 73: loss did not improve from 0.01091\n",
      "26/26 - 0s - loss: 0.0118 - 386ms/epoch - 15ms/step\n",
      "Epoch 74/80\n",
      "\n",
      "Epoch 74: loss did not improve from 0.01091\n",
      "26/26 - 0s - loss: 0.0117 - 406ms/epoch - 16ms/step\n",
      "Epoch 75/80\n",
      "\n",
      "Epoch 75: loss did not improve from 0.01091\n",
      "26/26 - 0s - loss: 0.0116 - 398ms/epoch - 15ms/step\n",
      "Epoch 76/80\n",
      "\n",
      "Epoch 76: loss did not improve from 0.01091\n",
      "26/26 - 0s - loss: 0.0113 - 414ms/epoch - 16ms/step\n",
      "Epoch 77/80\n",
      "\n",
      "Epoch 77: loss did not improve from 0.01091\n",
      "26/26 - 0s - loss: 0.0122 - 396ms/epoch - 15ms/step\n",
      "Epoch 78/80\n",
      "\n",
      "Epoch 78: loss did not improve from 0.01091\n",
      "26/26 - 0s - loss: 0.0128 - 424ms/epoch - 16ms/step\n",
      "Epoch 79/80\n",
      "\n",
      "Epoch 79: loss did not improve from 0.01091\n",
      "26/26 - 0s - loss: 0.0122 - 454ms/epoch - 17ms/step\n",
      "Epoch 80/80\n",
      "\n",
      "Epoch 80: loss did not improve from 0.01091\n",
      "26/26 - 1s - loss: 0.0132 - 512ms/epoch - 20ms/step\n"
     ]
    },
    {
     "data": {
      "text/plain": [
       "<keras.callbacks.History at 0x1ebde187040>"
      ]
     },
     "execution_count": 15,
     "metadata": {},
     "output_type": "execute_result"
    }
   ],
   "source": [
    "# Build the model\n",
    "model = Sequential()\n",
    "\n",
    "# Add an LSTM layer with 128 units, input shape of (x_train.shape[1], 1), and return_sequences set to True\n",
    "model.add(LSTM(units=64, input_shape=(x_train.shape[1], 1), return_sequences=True,kernel_regularizer=l2(0.01)))\n",
    "\n",
    "# Add an LSTM layer with 64 units\n",
    "model.add(LSTM(units=64, return_sequences=True))\n",
    "\n",
    "# Add a dropout layer with a rate of 0.5\n",
    "#model.add(Dropout(0.5))\n",
    "\n",
    "# Add an LSTM layer with 64 units\n",
    "model.add(LSTM(units=64, return_sequences=False))\n",
    "\n",
    "# Add a dropout layer with a rate of 0.5\n",
    "model.add(Dropout(0.5))\n",
    "\n",
    "# Add a dense layer with 1 unit\n",
    "model.add(Dense(1))\n",
    "\n",
    "# Compile the model with the 'mean_absolute_error' loss function and the 'adam' optimizer\n",
    "model.compile(loss='mean_absolute_error', optimizer='adam')\n",
    "# Set the filename to use for saving the model\n",
    "save_model = 'save_model_7-3.hdf5'\n",
    "\n",
    "# Create a ModelCheckpoint object to save the model during training\n",
    "best_model = ModelCheckpoint(save_model, monitor='loss', verbose=2, save_best_only=True, mode='auto')\n",
    "\n",
    "# Train the model using the 'fit' method\n",
    "model.fit(x_train, y_train, epochs=80, batch_size=50, verbose=2, callbacks=[best_model])"
   ]
  },
  {
   "cell_type": "code",
   "execution_count": 16,
   "id": "83dbb463",
   "metadata": {},
   "outputs": [
    {
     "name": "stdout",
     "output_type": "stream",
     "text": [
      "40/40 [==============================] - 2s 5ms/step\n"
     ]
    }
   ],
   "source": [
    "# Transform the y_train array back to the original scale\n",
    "y_train = sc.inverse_transform(y_train)\n",
    "\n",
    "# Load the best model from the save_model.hdf5 file\n",
    "final_model = load_model('save_model_7-3.hdf5')\n",
    "\n",
    "# Use the model to make predictions on the x_train data\n",
    "y_train_predict = final_model.predict(x_train)\n",
    "\n",
    "# Transform the y_train_predict array back to the original scale\n",
    "y_train_predict = sc.inverse_transform(y_train_predict)"
   ]
  },
  {
   "cell_type": "code",
   "execution_count": 17,
   "id": "04ea59bc",
   "metadata": {},
   "outputs": [
    {
     "name": "stdout",
     "output_type": "stream",
     "text": [
      "17/17 [==============================] - 0s 5ms/step\n"
     ]
    }
   ],
   "source": [
    "# Preprocess the test data\n",
    "test = df1[len(train_data)-5:].values\n",
    "test = test.reshape(-1, 1)\n",
    "sc_test = sc.transform(test)\n",
    "\n",
    "# Create the x_test array for the test data\n",
    "x_test = []\n",
    "for i in range(5, test.shape[0]):\n",
    "    x_test.append(sc_test[i-5:i, 0])\n",
    "x_test = np.array(x_test)\n",
    "x_test = np.reshape(x_test, (x_test.shape[0], x_test.shape[1], 1))\n",
    "\n",
    "# Get the true values for the test data\n",
    "y_test = data[t:]  # True values\n",
    "\n",
    "# Use the model to make predictions on the x_test data\n",
    "y_test_predict = final_model.predict(x_test)\n",
    "\n",
    "# Transform the y_test_predict array back to the original scale\n",
    "y_test_predict = sc.inverse_transform(y_test_predict)  # Predicted values"
   ]
  },
  {
   "cell_type": "code",
   "execution_count": 18,
   "id": "4107e35c",
   "metadata": {},
   "outputs": [
    {
     "name": "stderr",
     "output_type": "stream",
     "text": [
      "C:\\Users\\Dell\\AppData\\Local\\Temp\\ipykernel_19576\\612936592.py:8: SettingWithCopyWarning: \n",
      "A value is trying to be set on a copy of a slice from a DataFrame.\n",
      "Try using .loc[row_indexer,col_indexer] = value instead\n",
      "\n",
      "See the caveats in the documentation: https://pandas.pydata.org/pandas-docs/stable/user_guide/indexing.html#returning-a-view-versus-a-copy\n",
      "  train_data1['pred'] = y_train_predict\n",
      "C:\\Users\\Dell\\AppData\\Local\\Temp\\ipykernel_19576\\612936592.py:10: SettingWithCopyWarning: \n",
      "A value is trying to be set on a copy of a slice from a DataFrame.\n",
      "Try using .loc[row_indexer,col_indexer] = value instead\n",
      "\n",
      "See the caveats in the documentation: https://pandas.pydata.org/pandas-docs/stable/user_guide/indexing.html#returning-a-view-versus-a-copy\n",
      "  test_data1['pred'] = y_test_predict\n"
     ]
    },
    {
     "data": {
      "image/png": "[encoded data removed]",
      "text/plain": [
       "<Figure size 1152x360 with 1 Axes>"
      ]
     },
     "metadata": {
      "needs_background": "light"
     },
     "output_type": "display_data"
    }
   ],
   "source": [
    "# Create DataFrames for the training and test data\n",
    "train_data1 = df1[5:t]\n",
    "test_data1 = df1[t:]\n",
    "\n",
    "# Create a plot to compare the predicted and true values for the training and test data\n",
    "plt.figure(figsize=(16,5))\n",
    "plt.plot(df1, label='Annual price', color='r')\n",
    "train_data1['pred'] = y_train_predict\n",
    "plt.plot(train_data1['pred'], label='Train predict Price', color='g')\n",
    "test_data1['pred'] = y_test_predict\n",
    "plt.plot(test_data1['pred'], label='Test predict Price', color='b')\n",
    "plt.title('Compare Predict Price and Annual Price')\n",
    "plt.xlabel('date')\n",
    "plt.ylabel('Price OF VIC(VND)')\n",
    "plt.legend()\n",
    "plt.show()"
   ]
  },
  {
   "cell_type": "code",
   "execution_count": 19,
   "id": "07d255e9",
   "metadata": {},
   "outputs": [
    {
     "name": "stdout",
     "output_type": "stream",
     "text": [
      "MAE: 311.45\n",
      "MAPE: 3.45%\n",
      "MSE: 173705.12\n",
      "RMSE: 416.78\n",
      "R2: 0.99\n"
     ]
    }
   ],
   "source": [
    "#Train data\n",
    "# Calculate performance metrics for the training data\n",
    "mae = mean_absolute_error(y_train, y_train_predict)  # Mean Absolute Error (MAE)\n",
    "mape = mean_absolute_percentage_error(y_train, y_train_predict)  # Mean Absolute Percentage Error (MAPE)\n",
    "mse = mean_squared_error(y_train, y_train_predict)  # Mean Squared Error (MSE)\n",
    "rmse = np.sqrt(mse)  # Root Mean Squared Error (RMSE)\n",
    "r2 = r2_score(y_train, y_train_predict)  # R-squared (R2)\n",
    "\n",
    "# Print the performance metrics\n",
    "print(f\"MAE: {mae:.2f}\")\n",
    "print(f\"MAPE: {mape * 100:.2f}%\")\n",
    "print(f\"MSE: {mse:.2f}\")\n",
    "print(f\"RMSE: {rmse:.2f}\")\n",
    "print(f\"R2: {r2:.2f}\")"
   ]
  },
  {
   "cell_type": "code",
   "execution_count": 20,
   "id": "5d92e6ad",
   "metadata": {},
   "outputs": [
    {
     "name": "stdout",
     "output_type": "stream",
     "text": [
      "MAE: 1973.22\n",
      "MAPE: 6.42%\n",
      "MSE: 5803109.61\n",
      "RMSE: 2408.96\n",
      "R2: 0.92\n"
     ]
    }
   ],
   "source": [
    "#Test data\n",
    "mae = mean_absolute_error(y_test, y_test_predict)\n",
    "mape = mean_absolute_percentage_error(y_test, y_test_predict)\n",
    "mse = mean_squared_error(y_test, y_test_predict)\n",
    "rmse = np.sqrt(mse)\n",
    "r2 = r2_score(y_test, y_test_predict)\n",
    "\n",
    "print(f\"MAE: {mae:.2f}\")\n",
    "print(f\"MAPE: {mape * 100:.2f}%\")\n",
    "print(f\"MSE: {mse:.2f}\")\n",
    "print(f\"RMSE: {rmse:.2f}\")\n",
    "print(f\"R2: {r2:.2f}\")"
   ]
  },
  {
   "cell_type": "code",
   "execution_count": 21,
   "id": "2ef0b807",
   "metadata": {},
   "outputs": [
    {
     "data": {
      "image/png": "[encoded data removed]",
      "text/plain": [
       "<Figure size 1152x360 with 1 Axes>"
      ]
     },
     "metadata": {
      "needs_background": "light"
     },
     "output_type": "display_data"
    }
   ],
   "source": [
    "# Create a plot to compare the predicted and true values for the training and test data\n",
    "plt.figure(figsize=(16,5))\n",
    "plt.plot(train_data1['price'])\n",
    "plt.plot(test_data1[['price','pred']])\n",
    "plt.legend(['Train','Test','Predictions'])\n",
    "plt.show()"
   ]
  },
  {
   "cell_type": "code",
   "execution_count": 22,
   "id": "c21035eb",
   "metadata": {
    "scrolled": true
   },
   "outputs": [
    {
     "data": {
      "image/png": "[encoded data removed]",
      "text/plain": [
       "<Figure size 720x360 with 1 Axes>"
      ]
     },
     "metadata": {
      "needs_background": "light"
     },
     "output_type": "display_data"
    }
   ],
   "source": [
    "# Create a plot to compare the predicted and true values for the test data\n",
    "plt.figure(figsize=(10,5))\n",
    "plt.plot(test_data1[['price','pred']])\n",
    "plt.legend(['Test','Predictions'])\n",
    "plt.title('HPG', fontsize=18)\n",
    "plt.show()"
   ]
  },
  {
   "cell_type": "code",
   "execution_count": null,
   "id": "9f51a74a",
   "metadata": {},
   "outputs": [],
   "source": []
  }
 ],
 "metadata": {
  "kernelspec": {
   "display_name": "Python 3 (ipykernel)",
   "language": "python",
   "name": "python3"
  },
  "language_info": {
   "codemirror_mode": {
    "name": "ipython",
    "version": 3
   },
   "file_extension": ".py",
   "mimetype": "text/x-python",
   "name": "python",
   "nbconvert_exporter": "python",
   "pygments_lexer": "ipython3",
   "version": "3.9.12"
  }
 },
 "nbformat": 4,
 "nbformat_minor": 5
}
